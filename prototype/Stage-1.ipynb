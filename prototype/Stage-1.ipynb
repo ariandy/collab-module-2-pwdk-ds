{
 "cells": [
  {
   "cell_type": "markdown",
   "metadata": {},
   "source": [
    "# Load stage-0.csv"
   ]
  },
  {
   "cell_type": "code",
   "execution_count": 1,
   "metadata": {},
   "outputs": [
    {
     "data": {
      "text/html": [
       "<div>\n",
       "<style scoped>\n",
       "    .dataframe tbody tr th:only-of-type {\n",
       "        vertical-align: middle;\n",
       "    }\n",
       "\n",
       "    .dataframe tbody tr th {\n",
       "        vertical-align: top;\n",
       "    }\n",
       "\n",
       "    .dataframe thead th {\n",
       "        text-align: right;\n",
       "    }\n",
       "</style>\n",
       "<table border=\"1\" class=\"dataframe\">\n",
       "  <thead>\n",
       "    <tr style=\"text-align: right;\">\n",
       "      <th></th>\n",
       "      <th>Admin2</th>\n",
       "      <th>Province_State</th>\n",
       "      <th>Country_Region</th>\n",
       "      <th>Last_Update</th>\n",
       "      <th>Lat</th>\n",
       "      <th>Long_</th>\n",
       "      <th>Confirmed</th>\n",
       "      <th>Recovered</th>\n",
       "      <th>Deaths</th>\n",
       "      <th>Active</th>\n",
       "      <th>Incidence_Rate</th>\n",
       "      <th>Case-Fatality_Ratio</th>\n",
       "    </tr>\n",
       "  </thead>\n",
       "  <tbody>\n",
       "    <tr>\n",
       "      <th>0</th>\n",
       "      <td>-</td>\n",
       "      <td>Hubei</td>\n",
       "      <td>Mainland China</td>\n",
       "      <td>1/28/20 23:00</td>\n",
       "      <td>NaN</td>\n",
       "      <td>NaN</td>\n",
       "      <td>3554.0</td>\n",
       "      <td>80.0</td>\n",
       "      <td>125.0</td>\n",
       "      <td>NaN</td>\n",
       "      <td>NaN</td>\n",
       "      <td>NaN</td>\n",
       "    </tr>\n",
       "    <tr>\n",
       "      <th>1</th>\n",
       "      <td>-</td>\n",
       "      <td>Guangdong</td>\n",
       "      <td>Mainland China</td>\n",
       "      <td>1/28/20 23:00</td>\n",
       "      <td>NaN</td>\n",
       "      <td>NaN</td>\n",
       "      <td>207.0</td>\n",
       "      <td>4.0</td>\n",
       "      <td>NaN</td>\n",
       "      <td>NaN</td>\n",
       "      <td>NaN</td>\n",
       "      <td>NaN</td>\n",
       "    </tr>\n",
       "    <tr>\n",
       "      <th>2</th>\n",
       "      <td>-</td>\n",
       "      <td>Zhejiang</td>\n",
       "      <td>Mainland China</td>\n",
       "      <td>1/28/20 23:00</td>\n",
       "      <td>NaN</td>\n",
       "      <td>NaN</td>\n",
       "      <td>173.0</td>\n",
       "      <td>3.0</td>\n",
       "      <td>NaN</td>\n",
       "      <td>NaN</td>\n",
       "      <td>NaN</td>\n",
       "      <td>NaN</td>\n",
       "    </tr>\n",
       "    <tr>\n",
       "      <th>3</th>\n",
       "      <td>-</td>\n",
       "      <td>Henan</td>\n",
       "      <td>Mainland China</td>\n",
       "      <td>1/28/20 23:00</td>\n",
       "      <td>NaN</td>\n",
       "      <td>NaN</td>\n",
       "      <td>168.0</td>\n",
       "      <td>NaN</td>\n",
       "      <td>1.0</td>\n",
       "      <td>NaN</td>\n",
       "      <td>NaN</td>\n",
       "      <td>NaN</td>\n",
       "    </tr>\n",
       "    <tr>\n",
       "      <th>4</th>\n",
       "      <td>-</td>\n",
       "      <td>Hunan</td>\n",
       "      <td>Mainland China</td>\n",
       "      <td>1/28/20 23:00</td>\n",
       "      <td>NaN</td>\n",
       "      <td>NaN</td>\n",
       "      <td>143.0</td>\n",
       "      <td>NaN</td>\n",
       "      <td>NaN</td>\n",
       "      <td>NaN</td>\n",
       "      <td>NaN</td>\n",
       "      <td>NaN</td>\n",
       "    </tr>\n",
       "    <tr>\n",
       "      <th>...</th>\n",
       "      <td>...</td>\n",
       "      <td>...</td>\n",
       "      <td>...</td>\n",
       "      <td>...</td>\n",
       "      <td>...</td>\n",
       "      <td>...</td>\n",
       "      <td>...</td>\n",
       "      <td>...</td>\n",
       "      <td>...</td>\n",
       "      <td>...</td>\n",
       "      <td>...</td>\n",
       "      <td>...</td>\n",
       "    </tr>\n",
       "    <tr>\n",
       "      <th>618545</th>\n",
       "      <td>-</td>\n",
       "      <td>Unknown</td>\n",
       "      <td>Colombia</td>\n",
       "      <td>2020-07-17 22:34:48</td>\n",
       "      <td>NaN</td>\n",
       "      <td>NaN</td>\n",
       "      <td>0.0</td>\n",
       "      <td>0.0</td>\n",
       "      <td>0.0</td>\n",
       "      <td>0.0</td>\n",
       "      <td>NaN</td>\n",
       "      <td>NaN</td>\n",
       "    </tr>\n",
       "    <tr>\n",
       "      <th>618546</th>\n",
       "      <td>Dillingham</td>\n",
       "      <td>Alaska</td>\n",
       "      <td>US</td>\n",
       "      <td>2020-07-17 18:35:12</td>\n",
       "      <td>59.796037</td>\n",
       "      <td>-158.238194</td>\n",
       "      <td>1.0</td>\n",
       "      <td>0.0</td>\n",
       "      <td>0.0</td>\n",
       "      <td>1.0</td>\n",
       "      <td>20.341741</td>\n",
       "      <td>0.0</td>\n",
       "    </tr>\n",
       "    <tr>\n",
       "      <th>618547</th>\n",
       "      <td>-</td>\n",
       "      <td>Grand Princess</td>\n",
       "      <td>Canada</td>\n",
       "      <td>2020-07-13 12:34:33</td>\n",
       "      <td>NaN</td>\n",
       "      <td>NaN</td>\n",
       "      <td>13.0</td>\n",
       "      <td>13.0</td>\n",
       "      <td>0.0</td>\n",
       "      <td>0.0</td>\n",
       "      <td>NaN</td>\n",
       "      <td>0.0</td>\n",
       "    </tr>\n",
       "    <tr>\n",
       "      <th>618548</th>\n",
       "      <td>Lewis</td>\n",
       "      <td>Idaho</td>\n",
       "      <td>US</td>\n",
       "      <td>2020-07-10 02:34:22</td>\n",
       "      <td>46.233153</td>\n",
       "      <td>-116.434146</td>\n",
       "      <td>1.0</td>\n",
       "      <td>0.0</td>\n",
       "      <td>0.0</td>\n",
       "      <td>1.0</td>\n",
       "      <td>26.055237</td>\n",
       "      <td>0.0</td>\n",
       "    </tr>\n",
       "    <tr>\n",
       "      <th>618549</th>\n",
       "      <td>Wheeler</td>\n",
       "      <td>Oregon</td>\n",
       "      <td>US</td>\n",
       "      <td>2020-07-06 19:33:59</td>\n",
       "      <td>44.726982</td>\n",
       "      <td>-120.028143</td>\n",
       "      <td>0.0</td>\n",
       "      <td>0.0</td>\n",
       "      <td>0.0</td>\n",
       "      <td>0.0</td>\n",
       "      <td>0.000000</td>\n",
       "      <td>NaN</td>\n",
       "    </tr>\n",
       "  </tbody>\n",
       "</table>\n",
       "<p>618550 rows × 12 columns</p>\n",
       "</div>"
      ],
      "text/plain": [
       "            Admin2  Province_State  Country_Region          Last_Update  \\\n",
       "0                -           Hubei  Mainland China        1/28/20 23:00   \n",
       "1                -       Guangdong  Mainland China        1/28/20 23:00   \n",
       "2                -        Zhejiang  Mainland China        1/28/20 23:00   \n",
       "3                -           Henan  Mainland China        1/28/20 23:00   \n",
       "4                -           Hunan  Mainland China        1/28/20 23:00   \n",
       "...            ...             ...             ...                  ...   \n",
       "618545           -         Unknown        Colombia  2020-07-17 22:34:48   \n",
       "618546  Dillingham          Alaska              US  2020-07-17 18:35:12   \n",
       "618547           -  Grand Princess          Canada  2020-07-13 12:34:33   \n",
       "618548       Lewis           Idaho              US  2020-07-10 02:34:22   \n",
       "618549     Wheeler          Oregon              US  2020-07-06 19:33:59   \n",
       "\n",
       "              Lat       Long_  Confirmed  Recovered  Deaths  Active  \\\n",
       "0             NaN         NaN     3554.0       80.0   125.0     NaN   \n",
       "1             NaN         NaN      207.0        4.0     NaN     NaN   \n",
       "2             NaN         NaN      173.0        3.0     NaN     NaN   \n",
       "3             NaN         NaN      168.0        NaN     1.0     NaN   \n",
       "4             NaN         NaN      143.0        NaN     NaN     NaN   \n",
       "...           ...         ...        ...        ...     ...     ...   \n",
       "618545        NaN         NaN        0.0        0.0     0.0     0.0   \n",
       "618546  59.796037 -158.238194        1.0        0.0     0.0     1.0   \n",
       "618547        NaN         NaN       13.0       13.0     0.0     0.0   \n",
       "618548  46.233153 -116.434146        1.0        0.0     0.0     1.0   \n",
       "618549  44.726982 -120.028143        0.0        0.0     0.0     0.0   \n",
       "\n",
       "        Incidence_Rate  Case-Fatality_Ratio  \n",
       "0                  NaN                  NaN  \n",
       "1                  NaN                  NaN  \n",
       "2                  NaN                  NaN  \n",
       "3                  NaN                  NaN  \n",
       "4                  NaN                  NaN  \n",
       "...                ...                  ...  \n",
       "618545             NaN                  NaN  \n",
       "618546       20.341741                  0.0  \n",
       "618547             NaN                  0.0  \n",
       "618548       26.055237                  0.0  \n",
       "618549        0.000000                  NaN  \n",
       "\n",
       "[618550 rows x 12 columns]"
      ]
     },
     "execution_count": 1,
     "metadata": {},
     "output_type": "execute_result"
    }
   ],
   "source": [
    "import pandas as pd\n",
    "df = pd.read_csv('../datasets/stage-0.csv')\n",
    "df"
   ]
  },
  {
   "cell_type": "code",
   "execution_count": 2,
   "metadata": {},
   "outputs": [
    {
     "name": "stdout",
     "output_type": "stream",
     "text": [
      "<class 'pandas.core.frame.DataFrame'>\n",
      "RangeIndex: 618550 entries, 0 to 618549\n",
      "Data columns (total 12 columns):\n",
      " #   Column               Non-Null Count   Dtype  \n",
      "---  ------               --------------   -----  \n",
      " 0   Admin2               618550 non-null  object \n",
      " 1   Province_State       618550 non-null  object \n",
      " 2   Country_Region       618550 non-null  object \n",
      " 3   Last_Update          618550 non-null  object \n",
      " 4   Lat                  604196 non-null  float64\n",
      " 5   Long_                604196 non-null  float64\n",
      " 6   Confirmed            618522 non-null  float64\n",
      " 7   Recovered            618125 non-null  float64\n",
      " 8   Deaths               618072 non-null  float64\n",
      " 9   Active               610696 non-null  float64\n",
      " 10  Incidence_Rate       388203 non-null  float64\n",
      " 11  Case-Fatality_Ratio  390637 non-null  float64\n",
      "dtypes: float64(8), object(4)\n",
      "memory usage: 56.6+ MB\n"
     ]
    }
   ],
   "source": [
    "df.info()"
   ]
  },
  {
   "cell_type": "markdown",
   "metadata": {},
   "source": [
    "# Step-7"
   ]
  },
  {
   "cell_type": "markdown",
   "metadata": {},
   "source": [
    "### Regex Filter"
   ]
  },
  {
   "cell_type": "markdown",
   "metadata": {},
   "source": [
    "#### Pre-Step"
   ]
  },
  {
   "cell_type": "code",
   "execution_count": 3,
   "metadata": {},
   "outputs": [],
   "source": [
    "# Buat 1 kolom baru dengan nilai default 'N'.\n",
    "df['lu_temp'] = 'N'"
   ]
  },
  {
   "cell_type": "markdown",
   "metadata": {},
   "source": [
    "#### Gradual step-0: Snip terlebih dahulu semua format yang di dapat pertama kali"
   ]
  },
  {
   "cell_type": "code",
   "execution_count": 4,
   "metadata": {},
   "outputs": [],
   "source": [
    "%%script false --no-raise-error\n",
    "df[df['lu_temp']=='N']['Last_Update'].head()"
   ]
  },
  {
   "cell_type": "markdown",
   "metadata": {},
   "source": [
    "#### Function"
   ]
  },
  {
   "cell_type": "code",
   "execution_count": 5,
   "metadata": {},
   "outputs": [],
   "source": [
    "# Hitung banyak tanggal dengan format tertentu\n",
    "# Jika ditemukan tanggal dengan format seperti X, maka nilai 'N' pada 'lu_temp' diubah ke 'Y' \n",
    "import re\n",
    "\n",
    "def pattern_checker(data, pattern):\n",
    "    for i in range(len(data)):\n",
    "        get_loc_lastUpdate = data.columns.get_loc('Last_Update')\n",
    "        date_txt = data.iat[i, get_loc_lastUpdate]\n",
    "        result = re.match(pattern, date_txt)\n",
    "        if result != None:\n",
    "            get_loc_lu_temp = data.columns.get_loc('lu_temp')\n",
    "            data.iat[i, get_loc_lu_temp] = 'Y'\n",
    "\n",
    "def pattern_checker_report(data, pattern):\n",
    "    pattern_checker(data, pattern)\n",
    "    print([len(data[data['lu_temp']=='Y']), len(data) == len(data[data['lu_temp']=='Y'])])\n",
    "\n",
    "def convert_a(x):\n",
    "    x = x.split(' ')\n",
    "    x[0] = x[0].split('/')\n",
    "    if int(x[0][0]) < 10:\n",
    "        x[0][0] = '0'+x[0][0]\n",
    "    else:\n",
    "        pass\n",
    "    if int(x[0][1]) < 10:\n",
    "        x[0][1] = '0'+x[0][1]\n",
    "    else:\n",
    "        pass\n",
    "    if int(x[0][2]) < 2000:\n",
    "        x[0][2] = '20'+x[0][2]\n",
    "    else:\n",
    "        pass\n",
    "    x[0][0], x[0][2] = x[0][2], x[0][0]\n",
    "    x[0][1], x[0][2] = x[0][2], x[0][1]\n",
    "    x[0] = '-'.join(x[0])\n",
    "    x[1] = x[1].split(':')\n",
    "    if int(x[1][0]) < 10:\n",
    "        x[1][0] = '0'+x[0][1]\n",
    "    else:\n",
    "        pass\n",
    "    x[1] = ':'.join(x[1])\n",
    "    x[1] += ':00'\n",
    "    return ' '.join(x)\n",
    "\n",
    "def convert_c(x):\n",
    "    return ' '.join(x.split('T'))\n",
    "\n",
    "def higher_order_converter(df, pattern, convert_func):\n",
    "    df['lu_temp'] = 'N'\n",
    "    pattern_checker(df, pattern)\n",
    "    x = df[df['lu_temp']=='Y'].index\n",
    "    get_loc_lu = df.columns.get_loc('Last_Update')\n",
    "    for i in x:\n",
    "        df.iat[i, get_loc_lu] = convert_func(df.iat[i, get_loc_lu])"
   ]
  },
  {
   "cell_type": "markdown",
   "metadata": {},
   "source": [
    "#### Gradual step-1 : Tulis secara gradual semua ekspresi Regex yang ditemukan pada Gradual step-2 "
   ]
  },
  {
   "cell_type": "code",
   "execution_count": 6,
   "metadata": {},
   "outputs": [],
   "source": [
    "# 1/28/20 23:00 (Pattern A)\n",
    "a = '^([1-9]|1[0-2])/([1-9]|[12][0-9]|3[01])/20 (00|[0-9]|1[0-9]|2[0-3]):([0-9]|[0-5][0-9])$'\n",
    "# 2020-07-17 22:34:48 (Pattern B) ---> Ini adalah pattern yang kita inginkan\n",
    "b = '^202[0-3]-(0[1-9]|1[0-2])-(0[1-9]|[12][0-9]|3[01]) (0[0-9]|1[0-9]|2[0-3]):([0-5][0-9]):([0-5][0-9])$'\n",
    "# 2020-03-06T14:23:04 (Pattern C)\n",
    "c = '^202[0-3]-(0[1-9]|1[0-2])-(0[1-9]|[12][0-9]|3[01])T(0[0-9]|1[0-9]|2[0-3]):([0-5][0-9]):([0-5][0-9])$'\n",
    "# 1/22/2020 17:00 (Pattern D)\n",
    "d = '^[1-9]/([1-9]|[12][0-9]|3[01])/20[0-9]{2} (00|[0-9]|1[0-9]|2[0-3]):([0-9]|[0-5][0-9])$'\n",
    "pattern = [a, b, c, d]"
   ]
  },
  {
   "cell_type": "markdown",
   "metadata": {},
   "source": [
    "#### Gradual step-2 : Regex Filter. Dan kemudian kembali ke Gradual step-0"
   ]
  },
  {
   "cell_type": "code",
   "execution_count": 7,
   "metadata": {},
   "outputs": [],
   "source": [
    "%%script false --no-raise-error\n",
    "\n",
    "# Buat 1 kolom baru dengan nilai default 'N'.\n",
    "df['lu_temp'] = 'N'\n",
    "\n",
    "for i in range(len(pattern)):\n",
    "    pattern_checker_report(df, pattern[i])\n",
    "\n",
    "print(len(df[df['lu_temp']=='N'])) # memastikan bahwa sudah tidak ada lagi value 'N' pada kolom 'lu_temp'"
   ]
  },
  {
   "cell_type": "markdown",
   "metadata": {},
   "source": [
    "#### Gradual step, Finish : Aktifkan script-false pada Gradual step-0 dan Gradual step-2"
   ]
  },
  {
   "cell_type": "markdown",
   "metadata": {},
   "source": [
    "### Converter"
   ]
  },
  {
   "cell_type": "code",
   "execution_count": 8,
   "metadata": {},
   "outputs": [],
   "source": [
    "df.drop('lu_temp', axis=1, inplace=True) # drop kolom 'lu_temp'\n",
    "higher_order_converter(df, pattern[0], convert_a)\n",
    "higher_order_converter(df, pattern[2], convert_c)\n",
    "higher_order_converter(df, pattern[3], convert_a)"
   ]
  },
  {
   "cell_type": "code",
   "execution_count": 9,
   "metadata": {},
   "outputs": [
    {
     "name": "stdout",
     "output_type": "stream",
     "text": [
      "[0, False]\n",
      "[618550, True]\n",
      "[618550, True]\n",
      "[618550, True]\n",
      "0\n"
     ]
    }
   ],
   "source": [
    "# %%script false --no-raise-error\n",
    "\n",
    "# Buat 1 kolom baru dengan nilai default 'N'.\n",
    "df['lu_temp'] = 'N'\n",
    "\n",
    "for i in range(len(pattern)):\n",
    "    pattern_checker_report(df, pattern[i])\n",
    "\n",
    "print(len(df[df['lu_temp']=='N'])) # memastikan bahwa sudah tidak ada lagi value 'N' pada kolom 'lu_temp'\n",
    "\n",
    "df.drop('lu_temp', axis=1, inplace=True) # drop kolom 'lu_temp'\n",
    "\n",
    "df['Last_Update'] = pd.to_datetime(df['Last_Update'])"
   ]
  },
  {
   "cell_type": "code",
   "execution_count": 10,
   "metadata": {},
   "outputs": [],
   "source": [
    "import os\n",
    "os.chdir('..')\n",
    "os.chdir('datasets')\n",
    "df.to_csv(\"stage-1.csv\", index=False)"
   ]
  },
  {
   "cell_type": "code",
   "execution_count": 11,
   "metadata": {},
   "outputs": [
    {
     "name": "stdout",
     "output_type": "stream",
     "text": [
      "<class 'pandas.core.frame.DataFrame'>\n",
      "RangeIndex: 618550 entries, 0 to 618549\n",
      "Data columns (total 12 columns):\n",
      " #   Column               Non-Null Count   Dtype         \n",
      "---  ------               --------------   -----         \n",
      " 0   Admin2               618550 non-null  object        \n",
      " 1   Province_State       618550 non-null  object        \n",
      " 2   Country_Region       618550 non-null  object        \n",
      " 3   Last_Update          618550 non-null  datetime64[ns]\n",
      " 4   Lat                  604196 non-null  float64       \n",
      " 5   Long_                604196 non-null  float64       \n",
      " 6   Confirmed            618522 non-null  float64       \n",
      " 7   Recovered            618125 non-null  float64       \n",
      " 8   Deaths               618072 non-null  float64       \n",
      " 9   Active               610696 non-null  float64       \n",
      " 10  Incidence_Rate       388203 non-null  float64       \n",
      " 11  Case-Fatality_Ratio  390637 non-null  float64       \n",
      "dtypes: datetime64[ns](1), float64(8), object(3)\n",
      "memory usage: 56.6+ MB\n"
     ]
    }
   ],
   "source": [
    "df.info()"
   ]
  }
 ],
 "metadata": {
  "kernelspec": {
   "display_name": "Python 3",
   "language": "python",
   "name": "python3"
  },
  "language_info": {
   "codemirror_mode": {
    "name": "ipython",
    "version": 3
   },
   "file_extension": ".py",
   "mimetype": "text/x-python",
   "name": "python",
   "nbconvert_exporter": "python",
   "pygments_lexer": "ipython3",
   "version": "3.8.3"
  }
 },
 "nbformat": 4,
 "nbformat_minor": 4
}
