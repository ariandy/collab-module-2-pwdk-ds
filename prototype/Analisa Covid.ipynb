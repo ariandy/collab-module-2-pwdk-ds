{
 "cells": [
  {
   "cell_type": "code",
   "execution_count": 1,
   "metadata": {},
   "outputs": [],
   "source": [
    "import pandas as pd\n",
    "import numpy as np\n",
    "import seaborn as sns\n",
    "import matplotlib.pyplot as plt\n",
    "import warnings \n",
    "from datetime import datetime \n",
    "warnings.filterwarnings('ignore')"
   ]
  },
  {
   "cell_type": "code",
   "execution_count": 2,
   "metadata": {},
   "outputs": [],
   "source": [
    "df = pd.read_csv('../datasets/accumulate_by_country.csv')"
   ]
  },
  {
   "cell_type": "markdown",
   "metadata": {},
   "source": [
    "### Deteksi NaN"
   ]
  },
  {
   "cell_type": "code",
   "execution_count": 3,
   "metadata": {},
   "outputs": [
    {
     "name": "stdout",
     "output_type": "stream",
     "text": [
      "<class 'pandas.core.frame.DataFrame'>\n",
      "RangeIndex: 232 entries, 0 to 231\n",
      "Data columns (total 7 columns):\n",
      " #   Column               Non-Null Count  Dtype  \n",
      "---  ------               --------------  -----  \n",
      " 0   Country_Region       232 non-null    object \n",
      " 1   Confirmed            232 non-null    float64\n",
      " 2   Active               232 non-null    float64\n",
      " 3   Recovered            232 non-null    float64\n",
      " 4   Deaths               232 non-null    float64\n",
      " 5   Case-Fatality_Ratio  186 non-null    float64\n",
      " 6   Case-Recovery_Ratio  186 non-null    float64\n",
      "dtypes: float64(6), object(1)\n",
      "memory usage: 12.8+ KB\n"
     ]
    }
   ],
   "source": [
    "df.info()"
   ]
  },
  {
   "cell_type": "markdown",
   "metadata": {},
   "source": [
    "> Pada feature Case_Fatality_Ratio dan Case_Recovered_Ratio terdapat nilai null"
   ]
  },
  {
   "cell_type": "code",
   "execution_count": 4,
   "metadata": {},
   "outputs": [
    {
     "data": {
      "text/html": [
       "<div>\n",
       "<style scoped>\n",
       "    .dataframe tbody tr th:only-of-type {\n",
       "        vertical-align: middle;\n",
       "    }\n",
       "\n",
       "    .dataframe tbody tr th {\n",
       "        vertical-align: top;\n",
       "    }\n",
       "\n",
       "    .dataframe thead th {\n",
       "        text-align: right;\n",
       "    }\n",
       "</style>\n",
       "<table border=\"1\" class=\"dataframe\">\n",
       "  <thead>\n",
       "    <tr style=\"text-align: right;\">\n",
       "      <th></th>\n",
       "      <th>Country_Region</th>\n",
       "      <th>Confirmed</th>\n",
       "      <th>Active</th>\n",
       "      <th>Recovered</th>\n",
       "      <th>Deaths</th>\n",
       "      <th>Case-Fatality_Ratio</th>\n",
       "      <th>Case-Recovery_Ratio</th>\n",
       "    </tr>\n",
       "  </thead>\n",
       "  <tbody>\n",
       "    <tr>\n",
       "      <th>0</th>\n",
       "      <td>False</td>\n",
       "      <td>False</td>\n",
       "      <td>False</td>\n",
       "      <td>False</td>\n",
       "      <td>False</td>\n",
       "      <td>False</td>\n",
       "      <td>False</td>\n",
       "    </tr>\n",
       "    <tr>\n",
       "      <th>1</th>\n",
       "      <td>False</td>\n",
       "      <td>False</td>\n",
       "      <td>False</td>\n",
       "      <td>False</td>\n",
       "      <td>False</td>\n",
       "      <td>True</td>\n",
       "      <td>True</td>\n",
       "    </tr>\n",
       "    <tr>\n",
       "      <th>2</th>\n",
       "      <td>False</td>\n",
       "      <td>False</td>\n",
       "      <td>False</td>\n",
       "      <td>False</td>\n",
       "      <td>False</td>\n",
       "      <td>True</td>\n",
       "      <td>True</td>\n",
       "    </tr>\n",
       "    <tr>\n",
       "      <th>3</th>\n",
       "      <td>False</td>\n",
       "      <td>False</td>\n",
       "      <td>False</td>\n",
       "      <td>False</td>\n",
       "      <td>False</td>\n",
       "      <td>True</td>\n",
       "      <td>True</td>\n",
       "    </tr>\n",
       "    <tr>\n",
       "      <th>4</th>\n",
       "      <td>False</td>\n",
       "      <td>False</td>\n",
       "      <td>False</td>\n",
       "      <td>False</td>\n",
       "      <td>False</td>\n",
       "      <td>False</td>\n",
       "      <td>False</td>\n",
       "    </tr>\n",
       "    <tr>\n",
       "      <th>...</th>\n",
       "      <td>...</td>\n",
       "      <td>...</td>\n",
       "      <td>...</td>\n",
       "      <td>...</td>\n",
       "      <td>...</td>\n",
       "      <td>...</td>\n",
       "      <td>...</td>\n",
       "    </tr>\n",
       "    <tr>\n",
       "      <th>227</th>\n",
       "      <td>False</td>\n",
       "      <td>False</td>\n",
       "      <td>False</td>\n",
       "      <td>False</td>\n",
       "      <td>False</td>\n",
       "      <td>True</td>\n",
       "      <td>True</td>\n",
       "    </tr>\n",
       "    <tr>\n",
       "      <th>228</th>\n",
       "      <td>False</td>\n",
       "      <td>False</td>\n",
       "      <td>False</td>\n",
       "      <td>False</td>\n",
       "      <td>False</td>\n",
       "      <td>True</td>\n",
       "      <td>True</td>\n",
       "    </tr>\n",
       "    <tr>\n",
       "      <th>229</th>\n",
       "      <td>False</td>\n",
       "      <td>False</td>\n",
       "      <td>False</td>\n",
       "      <td>False</td>\n",
       "      <td>False</td>\n",
       "      <td>True</td>\n",
       "      <td>True</td>\n",
       "    </tr>\n",
       "    <tr>\n",
       "      <th>230</th>\n",
       "      <td>False</td>\n",
       "      <td>False</td>\n",
       "      <td>False</td>\n",
       "      <td>False</td>\n",
       "      <td>False</td>\n",
       "      <td>True</td>\n",
       "      <td>True</td>\n",
       "    </tr>\n",
       "    <tr>\n",
       "      <th>231</th>\n",
       "      <td>False</td>\n",
       "      <td>False</td>\n",
       "      <td>False</td>\n",
       "      <td>False</td>\n",
       "      <td>False</td>\n",
       "      <td>True</td>\n",
       "      <td>True</td>\n",
       "    </tr>\n",
       "  </tbody>\n",
       "</table>\n",
       "<p>232 rows × 7 columns</p>\n",
       "</div>"
      ],
      "text/plain": [
       "     Country_Region  Confirmed  Active  Recovered  Deaths  \\\n",
       "0             False      False   False      False   False   \n",
       "1             False      False   False      False   False   \n",
       "2             False      False   False      False   False   \n",
       "3             False      False   False      False   False   \n",
       "4             False      False   False      False   False   \n",
       "..              ...        ...     ...        ...     ...   \n",
       "227           False      False   False      False   False   \n",
       "228           False      False   False      False   False   \n",
       "229           False      False   False      False   False   \n",
       "230           False      False   False      False   False   \n",
       "231           False      False   False      False   False   \n",
       "\n",
       "     Case-Fatality_Ratio  Case-Recovery_Ratio  \n",
       "0                  False                False  \n",
       "1                   True                 True  \n",
       "2                   True                 True  \n",
       "3                   True                 True  \n",
       "4                  False                False  \n",
       "..                   ...                  ...  \n",
       "227                 True                 True  \n",
       "228                 True                 True  \n",
       "229                 True                 True  \n",
       "230                 True                 True  \n",
       "231                 True                 True  \n",
       "\n",
       "[232 rows x 7 columns]"
      ]
     },
     "execution_count": 4,
     "metadata": {},
     "output_type": "execute_result"
    }
   ],
   "source": [
    "df.isna()"
   ]
  },
  {
   "cell_type": "markdown",
   "metadata": {},
   "source": [
    "> Jika dieksplorasi, ternyata null value hanya terdapat pada data yang bernilai feature 0. Maka nilai null hanya akan diisi 0"
   ]
  },
  {
   "cell_type": "markdown",
   "metadata": {},
   "source": [
    "### Pengisian nilai null"
   ]
  },
  {
   "cell_type": "code",
   "execution_count": 5,
   "metadata": {},
   "outputs": [],
   "source": [
    "df.fillna(0, inplace=True)"
   ]
  },
  {
   "cell_type": "code",
   "execution_count": 6,
   "metadata": {},
   "outputs": [
    {
     "name": "stdout",
     "output_type": "stream",
     "text": [
      "<class 'pandas.core.frame.DataFrame'>\n",
      "RangeIndex: 232 entries, 0 to 231\n",
      "Data columns (total 7 columns):\n",
      " #   Column               Non-Null Count  Dtype  \n",
      "---  ------               --------------  -----  \n",
      " 0   Country_Region       232 non-null    object \n",
      " 1   Confirmed            232 non-null    float64\n",
      " 2   Active               232 non-null    float64\n",
      " 3   Recovered            232 non-null    float64\n",
      " 4   Deaths               232 non-null    float64\n",
      " 5   Case-Fatality_Ratio  232 non-null    float64\n",
      " 6   Case-Recovery_Ratio  232 non-null    float64\n",
      "dtypes: float64(6), object(1)\n",
      "memory usage: 12.8+ KB\n"
     ]
    }
   ],
   "source": [
    "df.info()"
   ]
  },
  {
   "cell_type": "markdown",
   "metadata": {},
   "source": [
    "> Nilai null sudah terisi"
   ]
  },
  {
   "cell_type": "code",
   "execution_count": 7,
   "metadata": {},
   "outputs": [
    {
     "data": {
      "text/html": [
       "<div>\n",
       "<style scoped>\n",
       "    .dataframe tbody tr th:only-of-type {\n",
       "        vertical-align: middle;\n",
       "    }\n",
       "\n",
       "    .dataframe tbody tr th {\n",
       "        vertical-align: top;\n",
       "    }\n",
       "\n",
       "    .dataframe thead th {\n",
       "        text-align: right;\n",
       "    }\n",
       "</style>\n",
       "<table border=\"1\" class=\"dataframe\">\n",
       "  <thead>\n",
       "    <tr style=\"text-align: right;\">\n",
       "      <th></th>\n",
       "      <th>Country_Region</th>\n",
       "      <th>Confirmed</th>\n",
       "      <th>Active</th>\n",
       "      <th>Recovered</th>\n",
       "      <th>Deaths</th>\n",
       "      <th>Case-Fatality_Ratio</th>\n",
       "      <th>Case-Recovery_Ratio</th>\n",
       "    </tr>\n",
       "  </thead>\n",
       "  <tbody>\n",
       "    <tr>\n",
       "      <th>4</th>\n",
       "      <td>US</td>\n",
       "      <td>6629899.0</td>\n",
       "      <td>6433143.0</td>\n",
       "      <td>0.0</td>\n",
       "      <td>196760.0</td>\n",
       "      <td>2.967768</td>\n",
       "      <td>0.000000</td>\n",
       "    </tr>\n",
       "    <tr>\n",
       "      <th>92</th>\n",
       "      <td>India</td>\n",
       "      <td>5020359.0</td>\n",
       "      <td>995933.0</td>\n",
       "      <td>3942360.0</td>\n",
       "      <td>82066.0</td>\n",
       "      <td>1.634664</td>\n",
       "      <td>78.527452</td>\n",
       "    </tr>\n",
       "    <tr>\n",
       "      <th>42</th>\n",
       "      <td>Brazil</td>\n",
       "      <td>4419083.0</td>\n",
       "      <td>439513.0</td>\n",
       "      <td>3845464.0</td>\n",
       "      <td>134106.0</td>\n",
       "      <td>3.034702</td>\n",
       "      <td>87.019502</td>\n",
       "    </tr>\n",
       "    <tr>\n",
       "      <th>164</th>\n",
       "      <td>Spain</td>\n",
       "      <td>614360.0</td>\n",
       "      <td>433741.0</td>\n",
       "      <td>150376.0</td>\n",
       "      <td>30243.0</td>\n",
       "      <td>4.922684</td>\n",
       "      <td>24.476854</td>\n",
       "    </tr>\n",
       "    <tr>\n",
       "      <th>17</th>\n",
       "      <td>United Kingdom</td>\n",
       "      <td>380677.0</td>\n",
       "      <td>336714.0</td>\n",
       "      <td>2190.0</td>\n",
       "      <td>41773.0</td>\n",
       "      <td>10.973345</td>\n",
       "      <td>0.575291</td>\n",
       "    </tr>\n",
       "    <tr>\n",
       "      <th>10</th>\n",
       "      <td>France</td>\n",
       "      <td>443869.0</td>\n",
       "      <td>321193.0</td>\n",
       "      <td>91293.0</td>\n",
       "      <td>31056.0</td>\n",
       "      <td>6.996659</td>\n",
       "      <td>20.567555</td>\n",
       "    </tr>\n",
       "    <tr>\n",
       "      <th>147</th>\n",
       "      <td>Russia</td>\n",
       "      <td>1075485.0</td>\n",
       "      <td>169175.0</td>\n",
       "      <td>887457.0</td>\n",
       "      <td>18853.0</td>\n",
       "      <td>1.752977</td>\n",
       "      <td>82.516911</td>\n",
       "    </tr>\n",
       "    <tr>\n",
       "      <th>26</th>\n",
       "      <td>Argentina</td>\n",
       "      <td>589012.0</td>\n",
       "      <td>128633.0</td>\n",
       "      <td>448263.0</td>\n",
       "      <td>12116.0</td>\n",
       "      <td>2.057004</td>\n",
       "      <td>76.104222</td>\n",
       "    </tr>\n",
       "    <tr>\n",
       "      <th>141</th>\n",
       "      <td>Peru</td>\n",
       "      <td>738020.0</td>\n",
       "      <td>126340.0</td>\n",
       "      <td>580753.0</td>\n",
       "      <td>30927.0</td>\n",
       "      <td>4.190537</td>\n",
       "      <td>78.690686</td>\n",
       "    </tr>\n",
       "    <tr>\n",
       "      <th>53</th>\n",
       "      <td>Colombia</td>\n",
       "      <td>736377.0</td>\n",
       "      <td>102821.0</td>\n",
       "      <td>610078.0</td>\n",
       "      <td>23478.0</td>\n",
       "      <td>3.188313</td>\n",
       "      <td>82.848595</td>\n",
       "    </tr>\n",
       "  </tbody>\n",
       "</table>\n",
       "</div>"
      ],
      "text/plain": [
       "     Country_Region  Confirmed     Active  Recovered    Deaths  \\\n",
       "4                US  6629899.0  6433143.0        0.0  196760.0   \n",
       "92            India  5020359.0   995933.0  3942360.0   82066.0   \n",
       "42           Brazil  4419083.0   439513.0  3845464.0  134106.0   \n",
       "164           Spain   614360.0   433741.0   150376.0   30243.0   \n",
       "17   United Kingdom   380677.0   336714.0     2190.0   41773.0   \n",
       "10           France   443869.0   321193.0    91293.0   31056.0   \n",
       "147          Russia  1075485.0   169175.0   887457.0   18853.0   \n",
       "26        Argentina   589012.0   128633.0   448263.0   12116.0   \n",
       "141            Peru   738020.0   126340.0   580753.0   30927.0   \n",
       "53         Colombia   736377.0   102821.0   610078.0   23478.0   \n",
       "\n",
       "     Case-Fatality_Ratio  Case-Recovery_Ratio  \n",
       "4               2.967768             0.000000  \n",
       "92              1.634664            78.527452  \n",
       "42              3.034702            87.019502  \n",
       "164             4.922684            24.476854  \n",
       "17             10.973345             0.575291  \n",
       "10              6.996659            20.567555  \n",
       "147             1.752977            82.516911  \n",
       "26              2.057004            76.104222  \n",
       "141             4.190537            78.690686  \n",
       "53              3.188313            82.848595  "
      ]
     },
     "execution_count": 7,
     "metadata": {},
     "output_type": "execute_result"
    }
   ],
   "source": [
    "df.sort_values(by='Active', ascending=False).head(10)"
   ]
  },
  {
   "cell_type": "markdown",
   "metadata": {},
   "source": [
    "#### Gambaran umum Data set"
   ]
  },
  {
   "cell_type": "code",
   "execution_count": 8,
   "metadata": {},
   "outputs": [
    {
     "data": {
      "text/html": [
       "<div>\n",
       "<style scoped>\n",
       "    .dataframe tbody tr th:only-of-type {\n",
       "        vertical-align: middle;\n",
       "    }\n",
       "\n",
       "    .dataframe tbody tr th {\n",
       "        vertical-align: top;\n",
       "    }\n",
       "\n",
       "    .dataframe thead th {\n",
       "        text-align: right;\n",
       "    }\n",
       "</style>\n",
       "<table border=\"1\" class=\"dataframe\">\n",
       "  <thead>\n",
       "    <tr style=\"text-align: right;\">\n",
       "      <th></th>\n",
       "      <th>Confirmed</th>\n",
       "      <th>Active</th>\n",
       "      <th>Recovered</th>\n",
       "      <th>Deaths</th>\n",
       "      <th>Case-Fatality_Ratio</th>\n",
       "      <th>Case-Recovery_Ratio</th>\n",
       "    </tr>\n",
       "  </thead>\n",
       "  <tbody>\n",
       "    <tr>\n",
       "      <th>count</th>\n",
       "      <td>2.320000e+02</td>\n",
       "      <td>2.320000e+02</td>\n",
       "      <td>2.320000e+02</td>\n",
       "      <td>232.000000</td>\n",
       "      <td>232.000000</td>\n",
       "      <td>232.000000</td>\n",
       "    </tr>\n",
       "    <tr>\n",
       "      <th>mean</th>\n",
       "      <td>1.282858e+05</td>\n",
       "      <td>4.794853e+04</td>\n",
       "      <td>7.628656e+04</td>\n",
       "      <td>4049.366379</td>\n",
       "      <td>2.135696</td>\n",
       "      <td>58.620179</td>\n",
       "    </tr>\n",
       "    <tr>\n",
       "      <th>std</th>\n",
       "      <td>6.260948e+05</td>\n",
       "      <td>4.293570e+05</td>\n",
       "      <td>3.745153e+05</td>\n",
       "      <td>17856.111771</td>\n",
       "      <td>2.833248</td>\n",
       "      <td>36.219695</td>\n",
       "    </tr>\n",
       "    <tr>\n",
       "      <th>min</th>\n",
       "      <td>0.000000e+00</td>\n",
       "      <td>0.000000e+00</td>\n",
       "      <td>0.000000e+00</td>\n",
       "      <td>0.000000</td>\n",
       "      <td>0.000000</td>\n",
       "      <td>0.000000</td>\n",
       "    </tr>\n",
       "    <tr>\n",
       "      <th>25%</th>\n",
       "      <td>1.327500e+02</td>\n",
       "      <td>4.750000e+00</td>\n",
       "      <td>5.300000e+01</td>\n",
       "      <td>0.000000</td>\n",
       "      <td>0.000000</td>\n",
       "      <td>24.444205</td>\n",
       "    </tr>\n",
       "    <tr>\n",
       "      <th>50%</th>\n",
       "      <td>4.905000e+03</td>\n",
       "      <td>8.900000e+02</td>\n",
       "      <td>2.376500e+03</td>\n",
       "      <td>82.500000</td>\n",
       "      <td>1.647840</td>\n",
       "      <td>73.847548</td>\n",
       "    </tr>\n",
       "    <tr>\n",
       "      <th>75%</th>\n",
       "      <td>4.684825e+04</td>\n",
       "      <td>6.881750e+03</td>\n",
       "      <td>2.450875e+04</td>\n",
       "      <td>743.750000</td>\n",
       "      <td>2.955871</td>\n",
       "      <td>88.616480</td>\n",
       "    </tr>\n",
       "    <tr>\n",
       "      <th>max</th>\n",
       "      <td>6.629899e+06</td>\n",
       "      <td>6.433143e+06</td>\n",
       "      <td>3.942360e+06</td>\n",
       "      <td>196760.000000</td>\n",
       "      <td>28.875681</td>\n",
       "      <td>100.000000</td>\n",
       "    </tr>\n",
       "  </tbody>\n",
       "</table>\n",
       "</div>"
      ],
      "text/plain": [
       "          Confirmed        Active     Recovered         Deaths  \\\n",
       "count  2.320000e+02  2.320000e+02  2.320000e+02     232.000000   \n",
       "mean   1.282858e+05  4.794853e+04  7.628656e+04    4049.366379   \n",
       "std    6.260948e+05  4.293570e+05  3.745153e+05   17856.111771   \n",
       "min    0.000000e+00  0.000000e+00  0.000000e+00       0.000000   \n",
       "25%    1.327500e+02  4.750000e+00  5.300000e+01       0.000000   \n",
       "50%    4.905000e+03  8.900000e+02  2.376500e+03      82.500000   \n",
       "75%    4.684825e+04  6.881750e+03  2.450875e+04     743.750000   \n",
       "max    6.629899e+06  6.433143e+06  3.942360e+06  196760.000000   \n",
       "\n",
       "       Case-Fatality_Ratio  Case-Recovery_Ratio  \n",
       "count           232.000000           232.000000  \n",
       "mean              2.135696            58.620179  \n",
       "std               2.833248            36.219695  \n",
       "min               0.000000             0.000000  \n",
       "25%               0.000000            24.444205  \n",
       "50%               1.647840            73.847548  \n",
       "75%               2.955871            88.616480  \n",
       "max              28.875681           100.000000  "
      ]
     },
     "execution_count": 8,
     "metadata": {},
     "output_type": "execute_result"
    }
   ],
   "source": [
    "df.describe()"
   ]
  },
  {
   "cell_type": "markdown",
   "metadata": {},
   "source": [
    "> jika dilihat banyak data yang cukup menarik diatas, diantaranya nilai max case_fatality_ratio berada di angka 28,9% dan nilai max case_recovered_ratio di angka 100%. Juga nilai rata-rata case_fatality_ratio yang berada di 2,14 dan rata-rata case_recovered_ratio 58,5."
   ]
  },
  {
   "cell_type": "markdown",
   "metadata": {},
   "source": [
    "### Melihat kolerasi antar feature melalui visualisasi\n",
    "- Global:"
   ]
  },
  {
   "cell_type": "code",
   "execution_count": 9,
   "metadata": {},
   "outputs": [
    {
     "data": {
      "text/plain": [
       "<seaborn.axisgrid.PairGrid at 0x7fade0627160>"
      ]
     },
     "execution_count": 9,
     "metadata": {},
     "output_type": "execute_result"
    },
    {
     "data": {
      "text/plain": [
       "<Figure size 864x576 with 0 Axes>"
      ]
     },
     "metadata": {},
     "output_type": "display_data"
    },
    {
     "data": {
      "image/png": "[encoded data removed]",
      "text/plain": [
       "<Figure size 1080x1080 with 42 Axes>"
      ]
     },
     "metadata": {
      "needs_background": "light"
     },
     "output_type": "display_data"
    }
   ],
   "source": [
    "plt.figure(figsize=(12,8))\n",
    "sns.pairplot(data=df,palette='cubehelix')"
   ]
  },
  {
   "cell_type": "markdown",
   "metadata": {},
   "source": [
    "> masih terlalu banyak outlier, sehingga kami memutuskan untuk mempersempit object untuk dianalisa menjadi hanya 10 negara dengan nilai active tertinggi"
   ]
  },
  {
   "cell_type": "markdown",
   "metadata": {},
   "source": [
    "- Top 10:"
   ]
  },
  {
   "cell_type": "code",
   "execution_count": 10,
   "metadata": {},
   "outputs": [
    {
     "data": {
      "text/html": [
       "<div>\n",
       "<style scoped>\n",
       "    .dataframe tbody tr th:only-of-type {\n",
       "        vertical-align: middle;\n",
       "    }\n",
       "\n",
       "    .dataframe tbody tr th {\n",
       "        vertical-align: top;\n",
       "    }\n",
       "\n",
       "    .dataframe thead th {\n",
       "        text-align: right;\n",
       "    }\n",
       "</style>\n",
       "<table border=\"1\" class=\"dataframe\">\n",
       "  <thead>\n",
       "    <tr style=\"text-align: right;\">\n",
       "      <th></th>\n",
       "      <th>Country_Region</th>\n",
       "      <th>Confirmed</th>\n",
       "      <th>Active</th>\n",
       "      <th>Recovered</th>\n",
       "      <th>Deaths</th>\n",
       "      <th>Case-Fatality_Ratio</th>\n",
       "      <th>Case-Recovery_Ratio</th>\n",
       "    </tr>\n",
       "  </thead>\n",
       "  <tbody>\n",
       "    <tr>\n",
       "      <th>4</th>\n",
       "      <td>US</td>\n",
       "      <td>6629899.0</td>\n",
       "      <td>6433143.0</td>\n",
       "      <td>0.0</td>\n",
       "      <td>196760.0</td>\n",
       "      <td>2.967768</td>\n",
       "      <td>0.000000</td>\n",
       "    </tr>\n",
       "    <tr>\n",
       "      <th>92</th>\n",
       "      <td>India</td>\n",
       "      <td>5020359.0</td>\n",
       "      <td>995933.0</td>\n",
       "      <td>3942360.0</td>\n",
       "      <td>82066.0</td>\n",
       "      <td>1.634664</td>\n",
       "      <td>78.527452</td>\n",
       "    </tr>\n",
       "    <tr>\n",
       "      <th>42</th>\n",
       "      <td>Brazil</td>\n",
       "      <td>4419083.0</td>\n",
       "      <td>439513.0</td>\n",
       "      <td>3845464.0</td>\n",
       "      <td>134106.0</td>\n",
       "      <td>3.034702</td>\n",
       "      <td>87.019502</td>\n",
       "    </tr>\n",
       "    <tr>\n",
       "      <th>164</th>\n",
       "      <td>Spain</td>\n",
       "      <td>614360.0</td>\n",
       "      <td>433741.0</td>\n",
       "      <td>150376.0</td>\n",
       "      <td>30243.0</td>\n",
       "      <td>4.922684</td>\n",
       "      <td>24.476854</td>\n",
       "    </tr>\n",
       "    <tr>\n",
       "      <th>17</th>\n",
       "      <td>United Kingdom</td>\n",
       "      <td>380677.0</td>\n",
       "      <td>336714.0</td>\n",
       "      <td>2190.0</td>\n",
       "      <td>41773.0</td>\n",
       "      <td>10.973345</td>\n",
       "      <td>0.575291</td>\n",
       "    </tr>\n",
       "    <tr>\n",
       "      <th>10</th>\n",
       "      <td>France</td>\n",
       "      <td>443869.0</td>\n",
       "      <td>321193.0</td>\n",
       "      <td>91293.0</td>\n",
       "      <td>31056.0</td>\n",
       "      <td>6.996659</td>\n",
       "      <td>20.567555</td>\n",
       "    </tr>\n",
       "    <tr>\n",
       "      <th>147</th>\n",
       "      <td>Russia</td>\n",
       "      <td>1075485.0</td>\n",
       "      <td>169175.0</td>\n",
       "      <td>887457.0</td>\n",
       "      <td>18853.0</td>\n",
       "      <td>1.752977</td>\n",
       "      <td>82.516911</td>\n",
       "    </tr>\n",
       "    <tr>\n",
       "      <th>26</th>\n",
       "      <td>Argentina</td>\n",
       "      <td>589012.0</td>\n",
       "      <td>128633.0</td>\n",
       "      <td>448263.0</td>\n",
       "      <td>12116.0</td>\n",
       "      <td>2.057004</td>\n",
       "      <td>76.104222</td>\n",
       "    </tr>\n",
       "    <tr>\n",
       "      <th>141</th>\n",
       "      <td>Peru</td>\n",
       "      <td>738020.0</td>\n",
       "      <td>126340.0</td>\n",
       "      <td>580753.0</td>\n",
       "      <td>30927.0</td>\n",
       "      <td>4.190537</td>\n",
       "      <td>78.690686</td>\n",
       "    </tr>\n",
       "    <tr>\n",
       "      <th>53</th>\n",
       "      <td>Colombia</td>\n",
       "      <td>736377.0</td>\n",
       "      <td>102821.0</td>\n",
       "      <td>610078.0</td>\n",
       "      <td>23478.0</td>\n",
       "      <td>3.188313</td>\n",
       "      <td>82.848595</td>\n",
       "    </tr>\n",
       "  </tbody>\n",
       "</table>\n",
       "</div>"
      ],
      "text/plain": [
       "     Country_Region  Confirmed     Active  Recovered    Deaths  \\\n",
       "4                US  6629899.0  6433143.0        0.0  196760.0   \n",
       "92            India  5020359.0   995933.0  3942360.0   82066.0   \n",
       "42           Brazil  4419083.0   439513.0  3845464.0  134106.0   \n",
       "164           Spain   614360.0   433741.0   150376.0   30243.0   \n",
       "17   United Kingdom   380677.0   336714.0     2190.0   41773.0   \n",
       "10           France   443869.0   321193.0    91293.0   31056.0   \n",
       "147          Russia  1075485.0   169175.0   887457.0   18853.0   \n",
       "26        Argentina   589012.0   128633.0   448263.0   12116.0   \n",
       "141            Peru   738020.0   126340.0   580753.0   30927.0   \n",
       "53         Colombia   736377.0   102821.0   610078.0   23478.0   \n",
       "\n",
       "     Case-Fatality_Ratio  Case-Recovery_Ratio  \n",
       "4               2.967768             0.000000  \n",
       "92              1.634664            78.527452  \n",
       "42              3.034702            87.019502  \n",
       "164             4.922684            24.476854  \n",
       "17             10.973345             0.575291  \n",
       "10              6.996659            20.567555  \n",
       "147             1.752977            82.516911  \n",
       "26              2.057004            76.104222  \n",
       "141             4.190537            78.690686  \n",
       "53              3.188313            82.848595  "
      ]
     },
     "execution_count": 10,
     "metadata": {},
     "output_type": "execute_result"
    }
   ],
   "source": [
    "covid_top10 = df.sort_values(by='Active', ascending=False).head(10)\n",
    "covid_top10"
   ]
  },
  {
   "cell_type": "code",
   "execution_count": 11,
   "metadata": {},
   "outputs": [
    {
     "data": {
      "text/plain": [
       "<seaborn.axisgrid.PairGrid at 0x7fadb359a370>"
      ]
     },
     "execution_count": 11,
     "metadata": {},
     "output_type": "execute_result"
    },
    {
     "data": {
      "text/plain": [
       "<Figure size 864x576 with 0 Axes>"
      ]
     },
     "metadata": {},
     "output_type": "display_data"
    },
    {
     "data": {
      "image/png": "[encoded data removed]",
      "text/plain": [
       "<Figure size 1080x1080 with 42 Axes>"
      ]
     },
     "metadata": {
      "needs_background": "light"
     },
     "output_type": "display_data"
    }
   ],
   "source": [
    "plt.figure(figsize=(12,8))\n",
    "sns.pairplot(data=covid_top10,palette='cubehelix')"
   ]
  },
  {
   "cell_type": "markdown",
   "metadata": {},
   "source": [
    "> Dari visualisasi di atas masih terdapat outlier dan data memang tidak terdistribusi normal"
   ]
  },
  {
   "cell_type": "markdown",
   "metadata": {},
   "source": [
    "### Deteksi outlier menggunakan IQR"
   ]
  },
  {
   "cell_type": "code",
   "execution_count": 12,
   "metadata": {},
   "outputs": [],
   "source": [
    "Q1 = covid_top10['Active'].describe()['25%']\n",
    "Q3 = covid_top10['Active'].describe()['75%']\n",
    "\n",
    "Iqr = int(Q3) - int(Q1) \n",
    "upper = Q3 + 1.5 * Iqr\n",
    "lower = Q1 - 1.5 * Iqr"
   ]
  },
  {
   "cell_type": "code",
   "execution_count": 13,
   "metadata": {},
   "outputs": [
    {
     "data": {
      "text/plain": [
       "8"
      ]
     },
     "execution_count": 13,
     "metadata": {},
     "output_type": "execute_result"
    }
   ],
   "source": [
    "len(covid_top10[(covid_top10['Active'] >= lower) & (covid_top10['Active'] <= upper)]['Active'])"
   ]
  },
  {
   "cell_type": "code",
   "execution_count": 14,
   "metadata": {
    "scrolled": true
   },
   "outputs": [
    {
     "data": {
      "image/png": "[encoded data removed]",
      "text/plain": [
       "<Figure size 576x360 with 1 Axes>"
      ]
     },
     "metadata": {
      "needs_background": "light"
     },
     "output_type": "display_data"
    }
   ],
   "source": [
    "plt.figure(figsize=(8,5))\n",
    "sns.set_context(\"notebook\", font_scale=1, rc={\"lines.linewidth\": 2.5})\n",
    "sns.distplot(covid_top10[(covid_top10['Case-Recovery_Ratio'] >= lower) & (covid_top10['Case-Recovery_Ratio'] <= upper)]['Case-Recovery_Ratio'])\n",
    "\n",
    "out_like = covid_top10[(covid_top10['Case-Recovery_Ratio'] >= lower) & (covid_top10['Case-Recovery_Ratio'] <= upper)]['Case-Recovery_Ratio'].index"
   ]
  },
  {
   "cell_type": "markdown",
   "metadata": {},
   "source": [
    "> Meski sudah dihilangkan outliernya, grafik masih menunjukan bahwa data tidak dalam bentuk bell shape yang menandakan distribusi data memang tidak normal"
   ]
  },
  {
   "cell_type": "code",
   "execution_count": 15,
   "metadata": {},
   "outputs": [
    {
     "data": {
      "text/html": [
       "<div>\n",
       "<style scoped>\n",
       "    .dataframe tbody tr th:only-of-type {\n",
       "        vertical-align: middle;\n",
       "    }\n",
       "\n",
       "    .dataframe tbody tr th {\n",
       "        vertical-align: top;\n",
       "    }\n",
       "\n",
       "    .dataframe thead th {\n",
       "        text-align: right;\n",
       "    }\n",
       "</style>\n",
       "<table border=\"1\" class=\"dataframe\">\n",
       "  <thead>\n",
       "    <tr style=\"text-align: right;\">\n",
       "      <th></th>\n",
       "      <th>Country_Region</th>\n",
       "      <th>Confirmed</th>\n",
       "      <th>Active</th>\n",
       "      <th>Recovered</th>\n",
       "      <th>Deaths</th>\n",
       "      <th>Case-Fatality_Ratio</th>\n",
       "      <th>Case-Recovery_Ratio</th>\n",
       "    </tr>\n",
       "  </thead>\n",
       "  <tbody>\n",
       "    <tr>\n",
       "      <th>4</th>\n",
       "      <td>US</td>\n",
       "      <td>6629899.0</td>\n",
       "      <td>6433143.0</td>\n",
       "      <td>0.0</td>\n",
       "      <td>196760.0</td>\n",
       "      <td>2.967768</td>\n",
       "      <td>0.000000</td>\n",
       "    </tr>\n",
       "    <tr>\n",
       "      <th>92</th>\n",
       "      <td>India</td>\n",
       "      <td>5020359.0</td>\n",
       "      <td>995933.0</td>\n",
       "      <td>3942360.0</td>\n",
       "      <td>82066.0</td>\n",
       "      <td>1.634664</td>\n",
       "      <td>78.527452</td>\n",
       "    </tr>\n",
       "    <tr>\n",
       "      <th>42</th>\n",
       "      <td>Brazil</td>\n",
       "      <td>4419083.0</td>\n",
       "      <td>439513.0</td>\n",
       "      <td>3845464.0</td>\n",
       "      <td>134106.0</td>\n",
       "      <td>3.034702</td>\n",
       "      <td>87.019502</td>\n",
       "    </tr>\n",
       "    <tr>\n",
       "      <th>164</th>\n",
       "      <td>Spain</td>\n",
       "      <td>614360.0</td>\n",
       "      <td>433741.0</td>\n",
       "      <td>150376.0</td>\n",
       "      <td>30243.0</td>\n",
       "      <td>4.922684</td>\n",
       "      <td>24.476854</td>\n",
       "    </tr>\n",
       "    <tr>\n",
       "      <th>17</th>\n",
       "      <td>United Kingdom</td>\n",
       "      <td>380677.0</td>\n",
       "      <td>336714.0</td>\n",
       "      <td>2190.0</td>\n",
       "      <td>41773.0</td>\n",
       "      <td>10.973345</td>\n",
       "      <td>0.575291</td>\n",
       "    </tr>\n",
       "    <tr>\n",
       "      <th>10</th>\n",
       "      <td>France</td>\n",
       "      <td>443869.0</td>\n",
       "      <td>321193.0</td>\n",
       "      <td>91293.0</td>\n",
       "      <td>31056.0</td>\n",
       "      <td>6.996659</td>\n",
       "      <td>20.567555</td>\n",
       "    </tr>\n",
       "    <tr>\n",
       "      <th>147</th>\n",
       "      <td>Russia</td>\n",
       "      <td>1075485.0</td>\n",
       "      <td>169175.0</td>\n",
       "      <td>887457.0</td>\n",
       "      <td>18853.0</td>\n",
       "      <td>1.752977</td>\n",
       "      <td>82.516911</td>\n",
       "    </tr>\n",
       "    <tr>\n",
       "      <th>26</th>\n",
       "      <td>Argentina</td>\n",
       "      <td>589012.0</td>\n",
       "      <td>128633.0</td>\n",
       "      <td>448263.0</td>\n",
       "      <td>12116.0</td>\n",
       "      <td>2.057004</td>\n",
       "      <td>76.104222</td>\n",
       "    </tr>\n",
       "    <tr>\n",
       "      <th>141</th>\n",
       "      <td>Peru</td>\n",
       "      <td>738020.0</td>\n",
       "      <td>126340.0</td>\n",
       "      <td>580753.0</td>\n",
       "      <td>30927.0</td>\n",
       "      <td>4.190537</td>\n",
       "      <td>78.690686</td>\n",
       "    </tr>\n",
       "    <tr>\n",
       "      <th>53</th>\n",
       "      <td>Colombia</td>\n",
       "      <td>736377.0</td>\n",
       "      <td>102821.0</td>\n",
       "      <td>610078.0</td>\n",
       "      <td>23478.0</td>\n",
       "      <td>3.188313</td>\n",
       "      <td>82.848595</td>\n",
       "    </tr>\n",
       "  </tbody>\n",
       "</table>\n",
       "</div>"
      ],
      "text/plain": [
       "     Country_Region  Confirmed     Active  Recovered    Deaths  \\\n",
       "4                US  6629899.0  6433143.0        0.0  196760.0   \n",
       "92            India  5020359.0   995933.0  3942360.0   82066.0   \n",
       "42           Brazil  4419083.0   439513.0  3845464.0  134106.0   \n",
       "164           Spain   614360.0   433741.0   150376.0   30243.0   \n",
       "17   United Kingdom   380677.0   336714.0     2190.0   41773.0   \n",
       "10           France   443869.0   321193.0    91293.0   31056.0   \n",
       "147          Russia  1075485.0   169175.0   887457.0   18853.0   \n",
       "26        Argentina   589012.0   128633.0   448263.0   12116.0   \n",
       "141            Peru   738020.0   126340.0   580753.0   30927.0   \n",
       "53         Colombia   736377.0   102821.0   610078.0   23478.0   \n",
       "\n",
       "     Case-Fatality_Ratio  Case-Recovery_Ratio  \n",
       "4               2.967768             0.000000  \n",
       "92              1.634664            78.527452  \n",
       "42              3.034702            87.019502  \n",
       "164             4.922684            24.476854  \n",
       "17             10.973345             0.575291  \n",
       "10              6.996659            20.567555  \n",
       "147             1.752977            82.516911  \n",
       "26              2.057004            76.104222  \n",
       "141             4.190537            78.690686  \n",
       "53              3.188313            82.848595  "
      ]
     },
     "execution_count": 15,
     "metadata": {},
     "output_type": "execute_result"
    }
   ],
   "source": [
    "covid_not = df.loc[out_like].copy()\n",
    "covid_not.head(10)"
   ]
  },
  {
   "cell_type": "markdown",
   "metadata": {},
   "source": [
    "### Eksplorasi data pada dataset yang sudah dihilangkan outlier-nya"
   ]
  },
  {
   "cell_type": "code",
   "execution_count": 16,
   "metadata": {},
   "outputs": [
    {
     "data": {
      "text/html": [
       "<div>\n",
       "<style scoped>\n",
       "    .dataframe tbody tr th:only-of-type {\n",
       "        vertical-align: middle;\n",
       "    }\n",
       "\n",
       "    .dataframe tbody tr th {\n",
       "        vertical-align: top;\n",
       "    }\n",
       "\n",
       "    .dataframe thead th {\n",
       "        text-align: right;\n",
       "    }\n",
       "</style>\n",
       "<table border=\"1\" class=\"dataframe\">\n",
       "  <thead>\n",
       "    <tr style=\"text-align: right;\">\n",
       "      <th></th>\n",
       "      <th>Confirmed</th>\n",
       "      <th>Active</th>\n",
       "      <th>Recovered</th>\n",
       "      <th>Deaths</th>\n",
       "      <th>Case-Fatality_Ratio</th>\n",
       "      <th>Case-Recovery_Ratio</th>\n",
       "    </tr>\n",
       "  </thead>\n",
       "  <tbody>\n",
       "    <tr>\n",
       "      <th>count</th>\n",
       "      <td>1.000000e+01</td>\n",
       "      <td>1.000000e+01</td>\n",
       "      <td>1.000000e+01</td>\n",
       "      <td>10.000000</td>\n",
       "      <td>10.000000</td>\n",
       "      <td>10.000000</td>\n",
       "    </tr>\n",
       "    <tr>\n",
       "      <th>mean</th>\n",
       "      <td>2.064714e+06</td>\n",
       "      <td>9.487206e+05</td>\n",
       "      <td>1.055823e+06</td>\n",
       "      <td>60137.800000</td>\n",
       "      <td>4.171865</td>\n",
       "      <td>53.132707</td>\n",
       "    </tr>\n",
       "    <tr>\n",
       "      <th>std</th>\n",
       "      <td>2.342063e+06</td>\n",
       "      <td>1.944966e+06</td>\n",
       "      <td>1.524289e+06</td>\n",
       "      <td>60463.232074</td>\n",
       "      <td>2.892040</td>\n",
       "      <td>36.799136</td>\n",
       "    </tr>\n",
       "    <tr>\n",
       "      <th>min</th>\n",
       "      <td>3.806770e+05</td>\n",
       "      <td>1.028210e+05</td>\n",
       "      <td>0.000000e+00</td>\n",
       "      <td>12116.000000</td>\n",
       "      <td>1.634664</td>\n",
       "      <td>0.000000</td>\n",
       "    </tr>\n",
       "    <tr>\n",
       "      <th>25%</th>\n",
       "      <td>5.953490e+05</td>\n",
       "      <td>1.387685e+05</td>\n",
       "      <td>1.060638e+05</td>\n",
       "      <td>25169.250000</td>\n",
       "      <td>2.284695</td>\n",
       "      <td>21.544880</td>\n",
       "    </tr>\n",
       "    <tr>\n",
       "      <th>50%</th>\n",
       "      <td>7.371985e+05</td>\n",
       "      <td>3.289535e+05</td>\n",
       "      <td>5.145080e+05</td>\n",
       "      <td>30991.500000</td>\n",
       "      <td>3.111507</td>\n",
       "      <td>77.315837</td>\n",
       "    </tr>\n",
       "    <tr>\n",
       "      <th>75%</th>\n",
       "      <td>3.583184e+06</td>\n",
       "      <td>4.380700e+05</td>\n",
       "      <td>8.181122e+05</td>\n",
       "      <td>71992.750000</td>\n",
       "      <td>4.739647</td>\n",
       "      <td>81.560355</td>\n",
       "    </tr>\n",
       "    <tr>\n",
       "      <th>max</th>\n",
       "      <td>6.629899e+06</td>\n",
       "      <td>6.433143e+06</td>\n",
       "      <td>3.942360e+06</td>\n",
       "      <td>196760.000000</td>\n",
       "      <td>10.973345</td>\n",
       "      <td>87.019502</td>\n",
       "    </tr>\n",
       "  </tbody>\n",
       "</table>\n",
       "</div>"
      ],
      "text/plain": [
       "          Confirmed        Active     Recovered         Deaths  \\\n",
       "count  1.000000e+01  1.000000e+01  1.000000e+01      10.000000   \n",
       "mean   2.064714e+06  9.487206e+05  1.055823e+06   60137.800000   \n",
       "std    2.342063e+06  1.944966e+06  1.524289e+06   60463.232074   \n",
       "min    3.806770e+05  1.028210e+05  0.000000e+00   12116.000000   \n",
       "25%    5.953490e+05  1.387685e+05  1.060638e+05   25169.250000   \n",
       "50%    7.371985e+05  3.289535e+05  5.145080e+05   30991.500000   \n",
       "75%    3.583184e+06  4.380700e+05  8.181122e+05   71992.750000   \n",
       "max    6.629899e+06  6.433143e+06  3.942360e+06  196760.000000   \n",
       "\n",
       "       Case-Fatality_Ratio  Case-Recovery_Ratio  \n",
       "count            10.000000            10.000000  \n",
       "mean              4.171865            53.132707  \n",
       "std               2.892040            36.799136  \n",
       "min               1.634664             0.000000  \n",
       "25%               2.284695            21.544880  \n",
       "50%               3.111507            77.315837  \n",
       "75%               4.739647            81.560355  \n",
       "max              10.973345            87.019502  "
      ]
     },
     "execution_count": 16,
     "metadata": {},
     "output_type": "execute_result"
    }
   ],
   "source": [
    "covid_not.describe()"
   ]
  },
  {
   "cell_type": "code",
   "execution_count": 17,
   "metadata": {},
   "outputs": [
    {
     "data": {
      "text/plain": [
       "<matplotlib.axes._subplots.AxesSubplot at 0x7fadb03e2760>"
      ]
     },
     "execution_count": 17,
     "metadata": {},
     "output_type": "execute_result"
    },
    {
     "data": {
      "image/png": "[encoded data removed]",
      "text/plain": [
       "<Figure size 864x576 with 2 Axes>"
      ]
     },
     "metadata": {
      "needs_background": "light"
     },
     "output_type": "display_data"
    }
   ],
   "source": [
    "plt.figure(figsize=(12,8))\n",
    "sns.heatmap(covid_not.corr('spearman'),annot=True,cmap='RdGy')"
   ]
  },
  {
   "cell_type": "markdown",
   "metadata": {},
   "source": [
    "> Metode yang digunakan spearman, dikarenakan terlalu banyak outlier dan distribusi tidak normal"
   ]
  },
  {
   "cell_type": "markdown",
   "metadata": {},
   "source": [
    "##  Independent T-test\n",
    "### Hypothesis Testing 1\n",
    "- Pengaruh Ratio Fatality Case(kematian) suatu negara terhadap kasus terkonfirmasi yang masih aktif"
   ]
  },
  {
   "cell_type": "markdown",
   "metadata": {},
   "source": [
    "#### H0\n",
    "- Tidak adanya pengaruh Ratio Fatality Case(kematian) suatu negara terhadap meninggalnya korban covid yang masih aktif terkonfirmasi"
   ]
  },
  {
   "cell_type": "markdown",
   "metadata": {},
   "source": [
    "#### H1\n",
    "- Adanya pengaruh Ratio Fatality Case(kematian) suatu negara terhadap meninggalnya korban covid yang masih aktif"
   ]
  },
  {
   "cell_type": "code",
   "execution_count": 18,
   "metadata": {},
   "outputs": [
    {
     "data": {
      "image/png": "[encoded data removed]",
      "text/plain": [
       "<Figure size 432x288 with 1 Axes>"
      ]
     },
     "metadata": {},
     "output_type": "display_data"
    }
   ],
   "source": [
    "sns.set_style('whitegrid')\n",
    "sns.distplot(covid_not[covid_not['Active'] > 943348.2]['Case-Fatality_Ratio'],label='Active > 322316.0')\n",
    "sns.distplot(covid_not[covid_not['Active'] < 943348.2]['Case-Fatality_Ratio'],label='Active < 322316.0')\n",
    "plt.legend()\n",
    "plt.show()"
   ]
  },
  {
   "cell_type": "code",
   "execution_count": 19,
   "metadata": {},
   "outputs": [],
   "source": [
    "from scipy.stats import ttest_ind"
   ]
  },
  {
   "cell_type": "code",
   "execution_count": 20,
   "metadata": {},
   "outputs": [],
   "source": [
    "yes = covid_not[covid_not['Active'] > 943348.2]['Case-Fatality_Ratio']\n",
    "no = covid_not[covid_not['Active']  < 943348.2]['Case-Fatality_Ratio']"
   ]
  },
  {
   "cell_type": "code",
   "execution_count": 21,
   "metadata": {},
   "outputs": [
    {
     "data": {
      "text/plain": [
       "Ttest_indResult(statistic=1.025673626676097, pvalue=0.33505620634477296)"
      ]
     },
     "execution_count": 21,
     "metadata": {},
     "output_type": "execute_result"
    }
   ],
   "source": [
    "result = ttest_ind(no,yes)\n",
    "result"
   ]
  },
  {
   "cell_type": "code",
   "execution_count": 22,
   "metadata": {},
   "outputs": [
    {
     "name": "stdout",
     "output_type": "stream",
     "text": [
      "t-statistic : 1.03\n",
      "P-Value : 0.33505620634477296\n"
     ]
    }
   ],
   "source": [
    "print('t-statistic : {}'.format(round(result[0],2)))\n",
    "print('P-Value : {}'.format(result[1],2))"
   ]
  },
  {
   "cell_type": "markdown",
   "metadata": {},
   "source": [
    "#### Kesimpulan\n",
    "- Dikarenan p-value lebih besar dari significance level (0.05-->alpha), dapat kami simpulkan bahwa Hipotesis yang rumuskan dapat diterima.\n",
    "- Sehingga dapat dibuktikan bahwa adanya pengaruh akan Ratio Fatality Case(kematian) suatu negara terhadap sembuhnya korban covid yang masih aktif."
   ]
  },
  {
   "cell_type": "markdown",
   "metadata": {},
   "source": [
    "### Done the normality test (Anderson)\n",
    "- Anderson stat < critical value for accept H0 (reject H1) --> is normal distributed\n",
    "- Anderson stat > critical value for rejecting H0 (accept H1) --> isn't normal distributed\n",
    "- with significance level (5%)"
   ]
  },
  {
   "cell_type": "code",
   "execution_count": 23,
   "metadata": {},
   "outputs": [],
   "source": [
    "from scipy.stats import anderson\n",
    "def try_normal(data):\n",
    "    result = {'Anderson' : {i : j for i,j in zip(anderson(data)[2],anderson(data)[1])}}\n",
    "    result['Anderson']['statistic'] = anderson(data)[0]\n",
    "    return result"
   ]
  },
  {
   "cell_type": "code",
   "execution_count": 24,
   "metadata": {},
   "outputs": [
    {
     "data": {
      "text/plain": [
       "{'Anderson': {15.0: 0.519,\n",
       "  10.0: 0.591,\n",
       "  5.0: 0.709,\n",
       "  2.5: 0.827,\n",
       "  1.0: 0.984,\n",
       "  'statistic': 0.48507959492644126}}"
      ]
     },
     "execution_count": 24,
     "metadata": {},
     "output_type": "execute_result"
    }
   ],
   "source": [
    "try_normal(covid_not[covid_not['Active'] < 943348.2]['Case-Fatality_Ratio'])"
   ]
  },
  {
   "cell_type": "code",
   "execution_count": 25,
   "metadata": {},
   "outputs": [],
   "source": [
    "result_anderson = anderson(covid_not[covid_not['Active'] < 943348.2]['Case-Fatality_Ratio'])"
   ]
  },
  {
   "cell_type": "code",
   "execution_count": 26,
   "metadata": {},
   "outputs": [
    {
     "data": {
      "text/plain": [
       "[(15.0, 0.519), (10.0, 0.591), (5.0, 0.709), (2.5, 0.827), (1.0, 0.984)]"
      ]
     },
     "execution_count": 26,
     "metadata": {},
     "output_type": "execute_result"
    }
   ],
   "source": [
    "list(zip(result_anderson[2],result_anderson[1]))"
   ]
  },
  {
   "cell_type": "code",
   "execution_count": 27,
   "metadata": {},
   "outputs": [
    {
     "data": {
      "text/plain": [
       "array([0.519, 0.591, 0.709, 0.827, 0.984])"
      ]
     },
     "execution_count": 27,
     "metadata": {},
     "output_type": "execute_result"
    }
   ],
   "source": [
    "result_anderson[1]"
   ]
  },
  {
   "cell_type": "code",
   "execution_count": 28,
   "metadata": {},
   "outputs": [
    {
     "data": {
      "text/plain": [
       "0.48507959492644126"
      ]
     },
     "execution_count": 28,
     "metadata": {},
     "output_type": "execute_result"
    }
   ],
   "source": [
    "result_anderson[0]"
   ]
  },
  {
   "cell_type": "markdown",
   "metadata": {},
   "source": [
    "> Melalui pengujian Anderson terdapat keunikan dimana ternyata dataset dapat dinyatakan distribusi normal"
   ]
  },
  {
   "cell_type": "markdown",
   "metadata": {},
   "source": [
    "### Hypothesis Testing 2\n",
    "- Pengaruh Ratio kesembuhan suatu negara terhadap kasus terkonfirmasi yang masih aktif"
   ]
  },
  {
   "cell_type": "markdown",
   "metadata": {},
   "source": [
    "#### H0\n",
    "- Tidak adanya pengaruh  Ratio kesembuhan suatu negara suatu negara terhadap sembuhnya korban covid yang masih aktif terkonfirmasi"
   ]
  },
  {
   "cell_type": "markdown",
   "metadata": {},
   "source": [
    "#### H1\n",
    "- Adanya pengaruh akan  Ratio kesembuhan suatu negara suatu negara terhadap sembuhnya korban covid yang masih aktif"
   ]
  },
  {
   "cell_type": "code",
   "execution_count": 29,
   "metadata": {},
   "outputs": [
    {
     "data": {
      "image/png": "[encoded data removed]",
      "text/plain": [
       "<Figure size 432x288 with 1 Axes>"
      ]
     },
     "metadata": {},
     "output_type": "display_data"
    }
   ],
   "source": [
    "# sns.set_style('whitegrid')\n",
    "# sns.distplot(covid[covid['Active'] > 47635.83]['Case_Recovered_Ratio'],label='>50%')\n",
    "# sns.distplot(covid[covid['Active'] < 47635.83]['Case_Recovered_Ratio'],label='<50%')\n",
    "# plt.legend()\n",
    "# plt.show()\n",
    "sns.set_style('whitegrid')\n",
    "sns.distplot(covid_not[covid_not['Active'] > 943348.2]['Case-Recovery_Ratio'],label='Active > 906')\n",
    "sns.distplot(covid_not[covid_not['Active'] < 943348.2]['Case-Recovery_Ratio'],label='Active < 906')\n",
    "plt.legend()\n",
    "plt.show()"
   ]
  },
  {
   "cell_type": "code",
   "execution_count": 30,
   "metadata": {},
   "outputs": [],
   "source": [
    "yes = covid_not[covid_not['Active'] > 943348.2]['Case-Recovery_Ratio']\n",
    "no = covid_not[covid_not['Active'] < 943348.2]['Case-Recovery_Ratio']"
   ]
  },
  {
   "cell_type": "code",
   "execution_count": 31,
   "metadata": {},
   "outputs": [
    {
     "data": {
      "text/plain": [
       "Ttest_indResult(statistic=0.5732472748661883, pvalue=0.5822281067403559)"
      ]
     },
     "execution_count": 31,
     "metadata": {},
     "output_type": "execute_result"
    }
   ],
   "source": [
    "result = ttest_ind(no,yes)\n",
    "result"
   ]
  },
  {
   "cell_type": "code",
   "execution_count": 32,
   "metadata": {},
   "outputs": [
    {
     "name": "stdout",
     "output_type": "stream",
     "text": [
      "t-statistic : 0.57\n",
      "P-Value : 0.5822281067403559\n"
     ]
    }
   ],
   "source": [
    "print('t-statistic : {}'.format(round(result[0],2)))\n",
    "print('P-Value : {}'.format(result[1],2))"
   ]
  },
  {
   "cell_type": "markdown",
   "metadata": {},
   "source": [
    "#### Kesimpulan\n",
    "- Dikarenan p- value lebih besar dari significance level (0.05-->alpha), dapat kami simpulkan bahwa Hipotesis yang rumuskan dapat diterima.\n",
    "- Sehingga dapat dibuktikan bahwa adanya pengaruh akan Ratio Fatality Case(kematian) suatu negara terhadap sembuhnya korban covid yang masih aktif.\n",
    "\n",
    "- When the p-value higher then our significance level (alpha) it means to accept H0, reject H1\n",
    "- When the p-value lower then our significance level (alpha) it means to rejct H0, accept H1"
   ]
  },
  {
   "cell_type": "markdown",
   "metadata": {},
   "source": [
    "### Done the normality test (Anderson)\n",
    "- Anderson stat < critical value for accept H0 (reject H1) --> is normal distributed\n",
    "- Anderson stat > critical value for rejecting H0 (accept H1) --> isn't normal distributed\n",
    "- with significance level (5%)"
   ]
  },
  {
   "cell_type": "code",
   "execution_count": 33,
   "metadata": {},
   "outputs": [],
   "source": [
    "from scipy.stats import anderson\n",
    "def try_normal(data):\n",
    "    result = {'Anderson' : {i : j for i,j in zip(anderson(data)[2],anderson(data)[1])}}\n",
    "    result['Anderson']['statistic'] = anderson(data)[0]\n",
    "    return result"
   ]
  },
  {
   "cell_type": "code",
   "execution_count": 34,
   "metadata": {},
   "outputs": [
    {
     "data": {
      "text/plain": [
       "{'Anderson': {15.0: 0.519,\n",
       "  10.0: 0.591,\n",
       "  5.0: 0.709,\n",
       "  2.5: 0.827,\n",
       "  1.0: 0.984,\n",
       "  'statistic': 0.8510625023077605}}"
      ]
     },
     "execution_count": 34,
     "metadata": {},
     "output_type": "execute_result"
    }
   ],
   "source": [
    "try_normal(covid_not[covid_not['Active'] < 943348.2]['Case-Recovery_Ratio'])"
   ]
  },
  {
   "cell_type": "code",
   "execution_count": 35,
   "metadata": {},
   "outputs": [],
   "source": [
    "result_anderson = anderson(covid_not[covid_not['Active'] < 943348.2]['Case-Recovery_Ratio'])"
   ]
  },
  {
   "cell_type": "code",
   "execution_count": 36,
   "metadata": {},
   "outputs": [
    {
     "data": {
      "text/plain": [
       "[(15.0, 0.519), (10.0, 0.591), (5.0, 0.709), (2.5, 0.827), (1.0, 0.984)]"
      ]
     },
     "execution_count": 36,
     "metadata": {},
     "output_type": "execute_result"
    }
   ],
   "source": [
    "list(zip(result_anderson[2],result_anderson[1]))"
   ]
  },
  {
   "cell_type": "code",
   "execution_count": 37,
   "metadata": {},
   "outputs": [
    {
     "data": {
      "text/plain": [
       "array([0.519, 0.591, 0.709, 0.827, 0.984])"
      ]
     },
     "execution_count": 37,
     "metadata": {},
     "output_type": "execute_result"
    }
   ],
   "source": [
    "result_anderson[1]"
   ]
  },
  {
   "cell_type": "code",
   "execution_count": 38,
   "metadata": {},
   "outputs": [
    {
     "data": {
      "text/plain": [
       "0.8510625023077605"
      ]
     },
     "execution_count": 38,
     "metadata": {},
     "output_type": "execute_result"
    }
   ],
   "source": [
    "result_anderson[0]"
   ]
  },
  {
   "cell_type": "markdown",
   "metadata": {},
   "source": [
    "> Melalui pengujian Anderson terdapat keunikan dimana ternyata dataset dapat dinyatakan distribusi normal pada significance value 0,01"
   ]
  },
  {
   "cell_type": "markdown",
   "metadata": {},
   "source": [
    "### Kesimpulan Akhir:\n",
    "- Dari keseluruhan dataset yang kami digunakan, dapat kami simpulkan bahwa dataset bersifat tidak terdistribusi normal dan memiliki banyak outlier dikarenakan ada beberapa titik menjadi pusat penyebaran data\n",
    "- Dari dua hipotesa yang kami lakukan, dapat disimpulkan juga bahwa tidak terdapat korelasi yang cukup kuat antara variable jumlah kasus yang aktif (Feature Active) dengan Rasio Kasus Kematian (Case Fatality Ratio) maupun Rasio Kasus Sembuh (Case Recovered Ratio) "
   ]
  }
 ],
 "metadata": {
  "kernelspec": {
   "display_name": "Python 3",
   "language": "python",
   "name": "python3"
  },
  "language_info": {
   "codemirror_mode": {
    "name": "ipython",
    "version": 3
   },
   "file_extension": ".py",
   "mimetype": "text/x-python",
   "name": "python",
   "nbconvert_exporter": "python",
   "pygments_lexer": "ipython3",
   "version": "3.8.3"
  }
 },
 "nbformat": 4,
 "nbformat_minor": 4
}
